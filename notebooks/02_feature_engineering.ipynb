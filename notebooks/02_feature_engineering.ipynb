{
 "cells": [
  {
   "cell_type": "code",
   "execution_count": null,
   "metadata": {},
   "outputs": [],
   "source": [
    "# 📓 Feature Engineering Notebook for DevOps Learners\n",
    "\n",
    "# ---\n",
    "# 🧪 Imports\n",
    "import pandas as pd\n",
    "import numpy as np\n",
    "from datetime import datetime\n",
    "import seaborn as sns\n",
    "import matplotlib.pyplot as plt\n",
    "\n",
    "# ---\n",
    "# 📥 Load Cleaned Data\n",
    "df = pd.read_csv(\"../data/processed/cleaned_house_data.csv\")\n",
    "df.head()\n"
   ]
  },
  {
   "cell_type": "code",
   "execution_count": null,
   "metadata": {},
   "outputs": [],
   "source": [
    "# ---\n",
    "# 🔍 3. Initial Data Exploration\n",
    "\n",
    "# Print dataset shape: rows × columns\n",
    "print(\"Dataset shape (colums, rows):\", df.shape)\n",
    "\n",
    "# Print summary of column names, types, null counts, etc.\n",
    "df.info()\n",
    "\n",
    "# Show basic stats (mean, min, max, std) for numeric columns\n",
    "df.describe()\n",
    "\n",
    "# ---\n",
    "# 🧠 Why this matters:\n",
    "# This gives a quick overview of the data:\n",
    "#  Are there missing values?\n",
    "#  What kind of columns are there (numeric, text)?\n",
    "#  Do the values look reasonable?n\n"
   ]
  },
  {
   "cell_type": "code",
   "execution_count": null,
   "metadata": {},
   "outputs": [],
   "source": [
    "# ---\n",
    "# 🎯 Feature Engineering (Human-Readable)\n",
    "\n",
    "# Feature 1: Age of the house\n",
    "df['house_age'] = datetime.now().year - df['year_built']\n",
    "\n",
    "# Feature 2: Price per square foot\n",
    "df['price_per_sqft'] = df['price'] / df['sqft']\n",
    "\n",
    "# Feature 3: Ratio of bedrooms to bathrooms\n",
    "df['bed_bath_ratio'] = df['bedrooms'] / df['bathrooms']\n",
    "\n",
    "# Handle division by zero and infinite values\n",
    "df['bed_bath_ratio'] = df['bed_bath_ratio'].replace([np.inf, -np.inf], np.nan).fillna(0)\n",
    "\n",
    "# 📊 Quick Look at Engineered Data\n",
    "df[['house_age', 'price_per_sqft', 'bed_bath_ratio']].describe()\n"
   ]
  },
  {
   "cell_type": "code",
   "execution_count": null,
   "metadata": {},
   "outputs": [],
   "source": [
    "# 📊 5. Visualize the New Features\n",
    "\n",
    "# Plot distributions of the new features to check if they make sense\n",
    "\n",
    "fig, axs = plt.subplots(1, 3, figsize=(18, 5))\n",
    "sns.histplot(df['house_age'], kde=True, ax=axs[0])\n",
    "axs[0].set_title('Distribution of House Age')\n",
    "\n",
    "sns.histplot(df['price_per_sqft'], kde=True, ax=axs[1])\n",
    "axs[1].set_title('Price per Sqft')\n",
    "\n",
    "sns.histplot(df['bed_bath_ratio'], kde=True, ax=axs[2])\n",
    "axs[2].set_title('Bedroom to Bathroom Ratio')\n",
    "\n",
    "plt.tight_layout()\n",
    "plt.show()\n"
   ]
  },
  {
   "cell_type": "code",
   "execution_count": null,
   "metadata": {},
   "outputs": [],
   "source": [
    "# 💾 Save Final Engineered Features (Human-Readable CSV)\n",
    "\n",
    "selected_columns = [\n",
    "    'price', 'sqft', 'bedrooms', 'bathrooms', 'location', 'year_built', 'condition',\n",
    "    'house_age', 'price_per_sqft', 'bed_bath_ratio'\n",
    "]\n",
    "\n",
    "df[selected_columns].to_csv(\"../data/processed/data_scientists_features.csv\", index=False)\n",
    "print(\"✅ Saved human-readable engineered features to ../data/processed/data_scientists_features.csv\")\n"
   ]
  },
  {
   "cell_type": "code",
   "execution_count": null,
   "metadata": {},
   "outputs": [],
   "source": [
    "# ✅ 8. Summary\n",
    "# We:\n",
    "# - Created domain-informed features: house_age, price_per_sqft, bed_bath_ratio\n",
    "# - Explored and visualized them\n",
    "# - Built a preprocessing pipeline using sklearn\n",
    "# - Saved the preprocessed data and pipeline for downstream ML tasks\n",
    "\n",
    "# 👨‍🔬 This notebook represents the **data scientist/MLE workflow** for feature engineering,\n",
    "# before these steps are automated via a script like `engineer.py` for production.\n",
    "\n",
    "# 📦 Next step: Experimentation to find out the right Algorithm and its Configurations (Hyperparameters)!\n"
   ]
  }
 ],
 "metadata": {
  "kernelspec": {
   "display_name": ".venv",
   "language": "python",
   "name": "python3"
  },
  "language_info": {
   "codemirror_mode": {
    "name": "ipython",
    "version": 3
   },
   "file_extension": ".py",
   "mimetype": "text/x-python",
   "name": "python",
   "nbconvert_exporter": "python",
   "pygments_lexer": "ipython3",
   "version": "3.11.9"
  }
 },
 "nbformat": 4,
 "nbformat_minor": 2
}
