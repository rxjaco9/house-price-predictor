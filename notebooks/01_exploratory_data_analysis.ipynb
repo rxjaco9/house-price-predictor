{
 "cells": [
  {
   "cell_type": "markdown",
   "id": "f1ff5a27",
   "metadata": {},
   "source": [
    "# 🏠 House Data Exploration\n",
    "This notebook performs initial data exploration on the `house_data.csv` dataset."
   ]
  },
  {
   "cell_type": "code",
   "execution_count": null,
   "id": "cb5070ea",
   "metadata": {},
   "outputs": [],
   "source": [
    "# Import required libraries\n",
    "import pandas as pd\n",
    "import numpy as np\n",
    "import matplotlib.pyplot as plt\n",
    "import seaborn as sns"
   ]
  },
  {
   "cell_type": "code",
   "execution_count": null,
   "id": "0eed220c",
   "metadata": {},
   "outputs": [],
   "source": [
    "# Load the dataset\n",
    "df = pd.read_csv('../data/raw/house_data.csv')\n",
    "\n",
    "# ℹ️ Display basic information about the dataset\n",
    "print(f\"📐 Dataset shape (rows, columns): {df.shape}\")\n",
    "print(\"\\n📊 Dataset Info:\")\n",
    "print(df.info())\n"
   ]
  },
  {
   "cell_type": "code",
   "execution_count": null,
   "id": "c6e3362f",
   "metadata": {},
   "outputs": [],
   "source": [
    "# ❓ Checking for missing values to identify data quality issues\n",
    "print(\"\\n🔍 Missing values per column:\")\n",
    "print(df.isnull().sum())"
   ]
  },
  {
   "cell_type": "code",
   "execution_count": null,
   "id": "78a58971",
   "metadata": {},
   "outputs": [],
   "source": [
    "# 📈 Descriptive statistics like mean, std deviation, min, max, etc.\n",
    "print(\"\\n📋 Statistical Summary:\")\n",
    "print(df.describe())\n"
   ]
  },
  {
   "cell_type": "code",
   "execution_count": null,
   "id": "66c30c3e",
   "metadata": {},
   "outputs": [],
   "source": [
    "# 💰 Visualizing the distribution of house prices\n",
    "plt.figure(figsize=(10, 6))\n",
    "sns.histplot(df['price'], kde=True)\n",
    "plt.title('House Price Distribution')\n",
    "plt.xlabel('Price')\n",
    "plt.ylabel('Frequency')\n",
    "plt.show()\n",
    "\n",
    "print(\"📊 Plotted house price distribution.\")"
   ]
  },
  {
   "cell_type": "code",
   "execution_count": null,
   "id": "8bb040b7",
   "metadata": {},
   "outputs": [],
   "source": [
    "# 🔗 Checking how features are correlated with each other\n",
    "plt.figure(figsize=(12, 8))\n",
    "correlation_matrix = df.corr()\n",
    "sns.heatmap(correlation_matrix, annot=True, cmap='coolwarm', fmt='.2f')\n",
    "plt.title('Feature Correlation Matrix')\n",
    "plt.show()\n",
    "\n",
    "print(\"📈 Displayed feature correlation heatmap.\")\n"
   ]
  },
  {
   "cell_type": "code",
   "execution_count": null,
   "id": "a3087b77",
   "metadata": {},
   "outputs": [],
   "source": [
    "# 📏 Scatter plot to observe relationship between sqft and price\n",
    "plt.figure(figsize=(10, 6))\n",
    "sns.scatterplot(x='sqft', y='price', data=df)\n",
    "plt.title('Price vs Square Footage')\n",
    "plt.xlabel('Square Footage')\n",
    "plt.ylabel('Price')\n",
    "plt.show()\n",
    "\n",
    "print(\"📐 Analyzed relation between square footage and price.\")\n"
   ]
  },
  {
   "cell_type": "code",
   "execution_count": null,
   "id": "7ab8cbe7",
   "metadata": {},
   "outputs": [],
   "source": [
    "# 📍 Bar chart to see how many houses exist in each location\n",
    "plt.figure(figsize=(10, 6))\n",
    "sns.countplot(x='location', data=df)\n",
    "plt.title('Houses by Location')\n",
    "plt.xlabel('Location')\n",
    "plt.ylabel('Count')\n",
    "plt.xticks(rotation=45)  # Rotate x-axis labels for better readability\n",
    "plt.show()\n",
    "\n",
    "print(\"📍 Visualized distribution of houses by location.\")\n"
   ]
  },
  {
   "cell_type": "code",
   "execution_count": null,
   "id": "b11c08d5",
   "metadata": {},
   "outputs": [],
   "source": [
    "# 🛏️ Bar chart showing how average house price varies by bedroom count\n",
    "plt.figure(figsize=(10, 6))\n",
    "sns.barplot(x='bedrooms', y='price', data=df)\n",
    "plt.title('Average Price by Number of Bedrooms')\n",
    "plt.xlabel('Number of Bedrooms')\n",
    "plt.ylabel('Average Price')\n",
    "plt.show()\n",
    "\n",
    "print(\"🛏️ Compared average prices based on bedroom count.\")\n"
   ]
  },
  {
   "cell_type": "code",
   "execution_count": null,
   "id": "a0cb7947",
   "metadata": {},
   "outputs": [],
   "source": [
    "# Next Step \n",
    "# Feature Engineering\n",
    "# Create new features or modify existing ones\n"
   ]
  }
 ],
 "metadata": {
  "kernelspec": {
   "display_name": ".venv",
   "language": "python",
   "name": "python3"
  },
  "language_info": {
   "codemirror_mode": {
    "name": "ipython",
    "version": 3
   },
   "file_extension": ".py",
   "mimetype": "text/x-python",
   "name": "python",
   "nbconvert_exporter": "python",
   "pygments_lexer": "ipython3",
   "version": "3.11.9"
  }
 },
 "nbformat": 4,
 "nbformat_minor": 5
}
